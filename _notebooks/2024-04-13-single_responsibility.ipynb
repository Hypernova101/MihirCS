{
 "cells": [
  {
   "cell_type": "raw",
   "metadata": {
    "vscode": {
     "languageId": "raw"
    }
   },
   "source": [
    "---\n",
    "toc: true\n",
    "comments: true\n",
    "layout: post\n",
    "type: hacks\n",
    "courses: { compsci: {week: 13} }\n",
    "title: Introduction to Single Responsibility Principle \n",
    "description: This post will introduce you to Single Responsibility Principle (SRP) and how to apply it in your code. \n",
    "---"
   ]
  },
  {
   "cell_type": "markdown",
   "metadata": {},
   "source": [
    "## The role of SRP in game Design \n",
    "Code complexity without Single Responsibility Principle (SRP) can quickly become unreadable and changes can become daunting.  Code with SRP more clearly illustrates code flow and order of operations.\n",
    "\n",
    "In this example, we will follow OOP design and SRP principles by tracking the update process in the game.\n",
    "\n",
    "### GameEnv Update\n",
    "Here is an example of SRP design pattern showing gameObject.update() method that is called within the GameLoop, the GameEnv update() is called from the GameControl gameLoop(). \n",
    "\n",
    "This gameObject.update() method call, using SRP principle, is distinct from the gameObject.serialize() method and the gameObject.draw() method. Read the descriptions of the static update() method calls...\n",
    "\n",
    "- gameObject.update(). Updates to game object state(s).\n",
    "- gameObject.serialize(). Prepares game object updates for multiplayer sharing.\n",
    "- gameObject.draw(). Renders the game object on the screen, canvas element.\n",
    "\n",
    "```javascript\n",
    "static update() {\n",
    "    // Update game state, including all game objects\n",
    "    // if statement prevents game from updating upon player death\n",
    "    if (GameEnv.player === null || GameEnv.player.state.isDying === false) {\n",
    "        for (const gameObject of GameEnv.gameObjects) {\n",
    "            gameObject.update();  \n",
    "            gameObject.serialize(); \n",
    "            gameObject.draw(); \n",
    "        } \n",
    "    }\n",
    "}\n",
    "```\n",
    "\n",
    "### Player Update\n",
    "Here is an example of managing player updates. This is the update() method required by the GameLoop for class PlayerBase.  Using the SRP design pattern, each portion of update is split into a unique method...\n",
    "\n",
    "- updateAnimation().  Prepares the animation frame for the Player\n",
    "- updateMovement().  Handles the x and y changes of the Player\n",
    "- super.update().  Calls the update method of the parent class, Character\n",
    "\n",
    "```javascript\n",
    "update() {\n",
    "    // player methods\n",
    "    this.updateAnimation();\n",
    "    this.updateMovement();\n",
    "\n",
    "    // parent actions are performed after child specific actions\n",
    "    super.update();\n",
    "}\n",
    "```\n",
    "\n",
    "### Character Update\n",
    "Here is the super update method defined in class Character a direct descendent of class GameObject. PlayerBase is a Character direct descendent. This follow SRP design in Character handles moving characters like a player or a goomba, which require updates according to gravity and frames for animation.  \n",
    "\n",
    "- updateY(). Handles y axis updates, primarily related to gravity simulation.\n",
    "- updateFrameX().  Handles sprite frame updates, changing frame on each update cycle to simulate movement (animation)\n",
    "- collisionChecks(). Handles collisions checks, producing a data structure of collision events.\n",
    "\n",
    "```javascript\n",
    "update() {\n",
    "    // Update the y position of the character based on gravity\n",
    "    this.updateY();\n",
    "    // Update animation frameX of the object\n",
    "    this.updateFrameX(); \n",
    "    // Check for collisions, defined in GameObject which calls the collisionAction method\n",
    "    this.collisionChecks();\n",
    "}\n",
    "```\n",
    "\n",
    "### Player Collision Action (GameObject override)\n",
    "Here is an example of managing collision actions using SRP.  A key consideration in this SRP design, is the use of the PlayerBase class object data and state machines to manage the flow of control through SRP. \n",
    "\n",
    "- handleCollisionStart().  Watches for and sets up collision events for the Player.\n",
    "- handleCollisionEnd().  Tears down collisions no longer active for the Player.\n",
    "- setActiveCollision().  Sets the finite state name for the active collision.\n",
    "- handlePlayerReaction().  Updates the object data structure to represent the Player's reaction to the collision\n",
    "\n",
    "```javascript\n",
    "collisionAction() {\n",
    "    this.handleCollisionStart();\n",
    "    this.handleCollisionEnd();\n",
    "    this.setActiveCollision();\n",
    "    this.handlePlayerReaction();\n",
    "}\n",
    "```\n",
    "\n"
   ]
  },
  {
   "cell_type": "markdown",
   "metadata": {},
   "source": []
  }
 ],
 "metadata": {
  "kernelspec": {
   "display_name": "Python 3",
   "language": "python",
   "name": "python3"
  },
  "language_info": {
   "codemirror_mode": {
    "name": "ipython",
    "version": 3
   },
   "file_extension": ".py",
   "mimetype": "text/x-python",
   "name": "python",
   "nbconvert_exporter": "python",
   "pygments_lexer": "ipython3",
   "version": "3.10.12"
  }
 },
 "nbformat": 4,
 "nbformat_minor": 2
}
